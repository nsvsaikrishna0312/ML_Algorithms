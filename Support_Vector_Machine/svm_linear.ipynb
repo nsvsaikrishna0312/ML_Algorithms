{
  "nbformat": 4,
  "nbformat_minor": 0,
  "metadata": {
    "colab": {
      "provenance": [],
      "gpuType": "T4"
    },
    "kernelspec": {
      "name": "python3",
      "display_name": "Python 3"
    },
    "language_info": {
      "name": "python"
    },
    "accelerator": "GPU"
  },
  "cells": [
    {
      "cell_type": "code",
      "execution_count": 9,
      "metadata": {
        "colab": {
          "base_uri": "https://localhost:8080/"
        },
        "id": "iqbY9RL-pdBD",
        "outputId": "9f2d6b7d-8f74-4ad8-9009-a192ca0c43ef"
      },
      "outputs": [
        {
          "output_type": "stream",
          "name": "stdout",
          "text": [
            "Accuracy: 0.3667\n"
          ]
        }
      ],
      "source": [
        "import numpy as np\n",
        "import pandas as pd\n",
        "from sklearn.svm import SVC\n",
        "from sklearn.model_selection import train_test_split\n",
        "from sklearn.preprocessing import StandardScaler\n",
        "import matplotlib.pyplot as plt\n",
        "\n",
        "np.random.seed(42)\n",
        "feature1 = np.random.randint(1, 50, size=100)\n",
        "feature2 = np.random.randint(1, 50, size=100)\n",
        "\n",
        "target = np.random.randint(0, 2, size=100)\n",
        "\n",
        "df = pd.DataFrame({\n",
        "    'Feature1': feature1,\n",
        "    'Feature2': feature2,\n",
        "    'Target': target\n",
        "})\n",
        "\n",
        "X = df[['Feature1', 'Feature2']].values\n",
        "y = df['Target'].values\n",
        "\n",
        "X_train, X_test, y_train, y_test = train_test_split(X, y, test_size=0.3, random_state=42)\n",
        "\n",
        "scaler = StandardScaler()\n",
        "X_train_scaled = scaler.fit_transform(X_train)\n",
        "X_test_scaled = scaler.transform(X_test)\n",
        "\n",
        "model = SVC(kernel='linear')\n",
        "model.fit(X_train_scaled, y_train)\n",
        "\n",
        "y_pred = model.predict(X_test_scaled)\n",
        "\n",
        "accuracy = model.score(X_test_scaled, y_test)\n",
        "print(f\"Accuracy: {accuracy:.4f}\")\n",
        "\n"
      ]
    }
  ]
}